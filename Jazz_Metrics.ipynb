{
  "nbformat": 4,
  "nbformat_minor": 0,
  "metadata": {
    "colab": {
      "provenance": []
    },
    "kernelspec": {
      "name": "python3",
      "display_name": "Python 3"
    },
    "language_info": {
      "name": "python"
    }
  },
  "cells": [
    {
      "cell_type": "code",
      "source": [
        "!pip install mido\n",
        "from music21 import converter, instrument, note, chord, duration\n",
        "import numpy as np\n",
        "from music21 import converter, instrument, note, chord, stream\n",
        "from collections import OrderedDict\n",
        "import mido\n",
        "import numpy as np\n",
        "from collections import Counter\n",
        "import math\n",
        "from music21 import converter, pitch"
      ],
      "metadata": {
        "id": "Rqa2jQaVcoZb"
      },
      "execution_count": null,
      "outputs": []
    },
    {
      "cell_type": "markdown",
      "source": [
        "Pitch Class Histogram"
      ],
      "metadata": {
        "id": "HM6pUF5MNpzi"
      }
    },
    {
      "cell_type": "code",
      "source": [
        "def tokenize_midi_file(midi_file):\n",
        "    # Load the MIDI file\n",
        "    mid = mido.MidiFile(midi_file)\n",
        "\n",
        "    # Initialize the pitch class histogram\n",
        "    pitch_classes = ['C', 'C#', 'D', 'D#', 'E', 'F', 'F#', 'G', 'G#', 'A', 'A#', 'B']\n",
        "    pitch_histogram = np.zeros(12)\n",
        "\n",
        "    # Iterate over all tracks and messages in the MIDI file\n",
        "    for track in mid.tracks:\n",
        "        for msg in track:\n",
        "            if msg.type == 'note_on':\n",
        "                # Get the pitch of the note\n",
        "                pitch = msg.note % 12\n",
        "\n",
        "                # Update the pitch class histogram\n",
        "                pitch_histogram[pitch] += 1\n",
        "\n",
        "    # Normalize the pitch class histogram\n",
        "    total_count = np.sum(pitch_histogram)\n",
        "    pitch_histogram /= total_count\n",
        "\n",
        "    # Calculate the entropy\n",
        "    entropy = -np.sum(pitch_histogram * np.log2(pitch_histogram + 1e-10))\n",
        "\n",
        "    return pitch_histogram, entropy\n",
        "\n",
        "def print_pitch_histogram(pitch_histogram):\n",
        "    pitch_classes = ['C', 'C#', 'D', 'D#', 'E', 'F', 'F#', 'G', 'G#', 'A', 'A#', 'B']\n",
        "    print(\"Pitch Class Histogram:\")\n",
        "    for pitch, count in enumerate(pitch_histogram):\n",
        "        pitch_name = pitch_classes[pitch]\n",
        "        print(f\"{pitch_name}: {count}\")\n",
        "\n",
        "# Example usage\n",
        "midi_file = '/content/Jazz RNN w: Seed 8 for paper.mid'\n",
        "pitch_histogram, entropy = tokenize_midi_file(midi_file)\n",
        "print_pitch_histogram(pitch_histogram)\n",
        "print(\"Entropy:\", entropy)"
      ],
      "metadata": {
        "id": "88-iO6mhUlCi"
      },
      "execution_count": null,
      "outputs": []
    },
    {
      "cell_type": "code",
      "source": [
        "import matplotlib.pyplot as plt\n",
        "\n",
        "def plot_pitch_histogram(pitch_histogram):\n",
        "    pitch_classes = ['C', 'C#', 'D', 'D#', 'E', 'F', 'F#', 'G', 'G#', 'A', 'A#', 'B']\n",
        "    x = range(len(pitch_histogram))\n",
        "\n",
        "    plt.bar(x, pitch_histogram)\n",
        "    plt.xlabel('Pitch Class')\n",
        "    plt.ylabel('Frequency')\n",
        "\n",
        "\n",
        "    # Set the x-axis tick labels to pitch class names\n",
        "    plt.xticks(x, pitch_classes)\n",
        "\n",
        "    plt.show()\n",
        "\n",
        "# Example usage\n",
        "midi_file = '/content/Jazz RNN w: Seed 8 for paper.mid'\n",
        "pitch_histogram, entropy = tokenize_midi_file(midi_file)\n",
        "plot_pitch_histogram(pitch_histogram)"
      ],
      "metadata": {
        "id": "w5Mwwe2ws91h"
      },
      "execution_count": null,
      "outputs": []
    },
    {
      "cell_type": "markdown",
      "source": [
        "Grooving Pattern"
      ],
      "metadata": {
        "id": "201vvXuKNtQS"
      }
    },
    {
      "cell_type": "code",
      "source": [
        "def calculate_grooving_pattern(bar_notes):\n",
        "    grooving_pattern = np.zeros(64)  # Initialize the grooving pattern as a 64-dimensional vector\n",
        "    for note_obj in bar_notes:\n",
        "        if isinstance(note_obj, note.Note):\n",
        "            position = int(note_obj.offset * 4)  # Calculate the position in the bar\n",
        "            if position < 64:  # Ensure the position is within the range of the grooving pattern\n",
        "                grooving_pattern[position] = 1\n",
        "    return grooving_pattern.astype(int)\n",
        "\n",
        "\n",
        "def calculate_grooving_pattern_similarity(grooving_pattern_a, grooving_pattern_b):\n",
        "    q = len(grooving_pattern_a)  # Dimensionality of the grooving pattern vectors\n",
        "    xor_result = np.bitwise_xor(grooving_pattern_a, grooving_pattern_b)  # Apply the XOR operation\n",
        "    similarity = 1 - (1/q) * np.sum(xor_result)  # Calculate the similarity score using the updated formula\n",
        "    return similarity\n",
        "\n",
        "\n",
        "# Load the generated music as a MIDI file\n",
        "generated_music = converter.parse(\"/content/Jazz RNN w: Seed 8 for paper.mid\")\n",
        "\n",
        "# Initialize a list to store the generated grooving patterns\n",
        "generated_grooving_patterns = []\n",
        "\n",
        "# Iterate over bars in the generated music\n",
        "for bar in generated_music.parts[0].measures(1, None):\n",
        "    # Extract notes from the current bar\n",
        "    bar_notes = [note_obj for note_obj in bar.notesAndRests if isinstance(note_obj, (note.Note, note.Rest))]\n",
        "\n",
        "    # Calculate the grooving pattern for the current bar\n",
        "    current_bar_grooving_pattern = calculate_grooving_pattern(bar_notes)\n",
        "\n",
        "    # Append the grooving pattern to the list\n",
        "    generated_grooving_patterns.append(current_bar_grooving_pattern)\n",
        "\n",
        "# Calculate the grooving pattern similarity for each pair of bars\n",
        "grooving_pattern_similarities = []\n",
        "for i in range(len(generated_grooving_patterns) - 1):\n",
        "    similarity = calculate_grooving_pattern_similarity(generated_grooving_patterns[i], generated_grooving_patterns[i+1])\n",
        "    grooving_pattern_similarities.append(similarity)\n",
        "\n",
        "# Calculate the average pattern similarity\n",
        "average_similarity = np.mean(grooving_pattern_similarities)\n",
        "\n",
        "\n",
        "print(\"Grooving Pattern Similarities:\")\n",
        "for i, similarity in enumerate(grooving_pattern_similarities):\n",
        "    print(f\"Bar {i+1} to Bar {i+2}: {similarity}\")\n",
        "print(f\"Average Pattern Similarity: {average_similarity}\")\n",
        "\n",
        "import matplotlib.pyplot as plt\n",
        "\n",
        "# Plot the grooving pattern similarity\n",
        "plt.figure(figsize=(8, 4))\n",
        "x = range(1, len(grooving_pattern_similarities) + 1)  # X-axis: Bar pairs\n",
        "y = grooving_pattern_similarities  # Y-axis: Similarity scores\n",
        "plt.plot(x, y, marker='o', linestyle='-', color='blue')\n",
        "plt.xlabel('Bar Pair')\n",
        "plt.ylabel('Similarity Score')\n",
        "\n",
        "plt.grid(True)\n",
        "plt.show()"
      ],
      "metadata": {
        "id": "DpzEMXcehkrl"
      },
      "execution_count": null,
      "outputs": []
    }
  ]
}